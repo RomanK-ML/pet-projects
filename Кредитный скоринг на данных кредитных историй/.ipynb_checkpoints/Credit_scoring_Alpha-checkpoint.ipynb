{
 "cells": [
  {
   "cell_type": "markdown",
   "id": "2b7b4ff1-46c1-4bdd-a497-76bb482e649b",
   "metadata": {},
   "source": [
    "# Кредитный скоринг\n",
    "## Задача:  \n",
    "    Необходимо решить задачу кредитного скоринга клиентов Альфа-Банка, используя только данные кредитных историй."
   ]
  },
  {
   "cell_type": "markdown",
   "id": "3c77fadf-8028-4cef-b246-4d38ae7de8ea",
   "metadata": {},
   "source": [
    "# Импорт библиотек"
   ]
  },
  {
   "cell_type": "code",
   "execution_count": 1,
   "id": "fc4c832b-0fc1-4084-b817-ca7d3d938a84",
   "metadata": {},
   "outputs": [],
   "source": [
    "import pandas as pd\n",
    "import numpy as np\n",
    "\n",
    "import matplotlib.pyplot as plt\n",
    "import seaborn as sns\n",
    "\n",
    "from sklearn.model_selection import train_test_split\n",
    "from sklearn.model_selection import GridSearchCV\n",
    "\n",
    "from sklearn.linear_model import LogisticRegression\n",
    "from sklearn.ensemble import RandomForestClassifier\n",
    "\n",
    "from sklearn.metrics import accuracy_score\n",
    "from sklearn.metrics import precision_score\n",
    "from sklearn.metrics import recall_score\n",
    "from sklearn.metrics import roc_curve\n",
    "from sklearn.metrics import roc_auc_score\n",
    "\n",
    "\n",
    "RANDOM_SEED = 100\n",
    "TEST_SIZE = 0.3"
   ]
  },
  {
   "cell_type": "markdown",
   "id": "24255ad6-0138-49ee-a7c4-c93242a2e0bb",
   "metadata": {},
   "source": [
    "# Загрузка данных"
   ]
  },
  {
   "cell_type": "markdown",
   "id": "8cc56338-962e-4ffe-8f24-f238609cb52e",
   "metadata": {},
   "source": [
    "**Описание полей**\n",
    "\n",
    "- id - Идентификатор заявки. Заявки пронумерованы так, что большему номеру соответствует более поздняя дата заявки.\n",
    "- rn - Порядковый номер кредитного продукта в кредитной истории. Большему номеру соответствует продукт с более поздней датой открытия.\n",
    "- pre_since_opened - Дней с даты открытия кредита до даты сбора данных (бинаризовано*)\n",
    "- pre_since_confirmed - Дней с даты подтверждения информации по кредиту до даты сбора данных (бинаризовано*)\n",
    "- pre_pterm - Плановое количество дней с даты открытия кредита до даты закрытия (бинаризовано*)\n",
    "- pre_fterm\t- Фактическое количество дней с даты открытия кредита до даты закрытия (бинаризовано*)\n",
    "- pre_till_pclose - Плановое количество дней с даты сбора данных до даты закрытия кредита (бинаризовано*)\n",
    "- pre_till_fclose - Фактическое количество дней с даты сбора данных до даты закрытия кредита (бинаризовано*)\n",
    "- pre_loans_credit_limit - Кредитный лимит (бинаризовано*)\n",
    "- pre_loans_next_pay_summ - Сумма следующего платежа по кредиту (бинаризовано*)\n",
    "- pre_loans_outstanding - Оставшаяся невыплаченная сумма кредита (бинаризовано*)\n",
    "- pre_loans_total_overdue - Текущая просроченная задолженность (бинаризовано*)\n",
    "- pre_loans_max_overdue_sum - Максимальная просроченная задолженность (бинаризовано*)\n",
    "- pre_loans_credit_cost_rate - Полная стоимость кредита (бинаризовано*)\n",
    "- pre_loans5 - Число просрочек до 5 дней (бинаризовано*)\n",
    "- pre_loans530 - Число просрочек от 5 до 30 дней (бинаризовано*)\n",
    "- pre_loans3060 - Число просрочек от 30 до 60 дней (бинаризовано*)\n",
    "- pre_loans6090 - Число просрочек от 60 до 90 дней (бинаризовано*)\n",
    "- pre_loans90 - Число просрочек более, чем на 90 дней (бинаризовано*)\n",
    "- is_zero_loans_5 - Флаг: нет просрочек до 5 дней\n",
    "- is_zero_loans_530 - Флаг: нет просрочек от 5 до 30 дней\n",
    "- is_zero_loans_3060 - Флаг: нет просрочек от 30 до 60 дней\n",
    "- is_zero_loans_6090 - Флаг: нет просрочек от 60 до 90 дней\n",
    "- is_zero_loans90 - Флаг: нет просрочек более, чем на 90 дней\n",
    "- pre_util - Отношение оставшейся невыплаченной суммы кредита к кредитному лимиту (бинаризовано*)\n",
    "- pre_over2limit - Отношение текущей просроченной задолженности к кредитному лимиту (бинаризовано*)\n",
    "- pre_maxover2limit - Отношенение максимальной просроченной задолженности к кредитному лимиту (бинаризовано*)\n",
    "- is_zero_util - Флаг: отношение оставшейся невыплаченной суммы кредита к кредитному лимиту равняется 0\n",
    "- is_zero_over2limit - Флаг: отношение текущей просроченной задолженности к кредитному лимиту равняется 0\n",
    "- is_zero_maxover2limit - Флаг: отношение максимальной просроченной задолженности к кредитному лимиту равняется 0\n",
    "- enc_paym_{0..N} - Статусы ежемесячных платежей за последние N месяцев (закодировано**)\n",
    "- enc_loans_account_holder_type - Тип отношения к кредиту (закодировано**)\n",
    "- enc_loans_credit_status - Статус кредита (закодировано**)\n",
    "- enc_loans_account_cur - Валюта кредита (закодировано**)\n",
    "- enc_loans_credit_type - Тип кредита (закодировано**)\n",
    "- pclose_flag - Флаг: плановое количество дней с даты открытия кредита до даты закрытия не определено \n",
    "- fclose_flag - Флаг: фактическое количество дней с даты открытия кредита до даты закрытия не определено\n",
    "- flag - Целевая переменная, 1 – факт ухода в дефолт. Доступна участникам в обучающей выборке.\n",
    "\n",
    "\\* область значений поля разбивается на N непересекающихся промежутков, каждому промежутку случайным образом ставится в соответствие уникальный номер от 0 до N-1, значение поля  \n",
    "\\** каждому уникальному значению поля случайным образом ставится в соответствие уникальный номер от 0 до K, значение поля заменяется номером этого значения"
   ]
  },
  {
   "cell_type": "code",
   "execution_count": 2,
   "id": "2a56c6ff-ae39-4cc3-922d-a04565d468aa",
   "metadata": {},
   "outputs": [
    {
     "data": {
      "text/html": [
       "<div>\n",
       "<style scoped>\n",
       "    .dataframe tbody tr th:only-of-type {\n",
       "        vertical-align: middle;\n",
       "    }\n",
       "\n",
       "    .dataframe tbody tr th {\n",
       "        vertical-align: top;\n",
       "    }\n",
       "\n",
       "    .dataframe thead th {\n",
       "        text-align: right;\n",
       "    }\n",
       "</style>\n",
       "<table border=\"1\" class=\"dataframe\">\n",
       "  <thead>\n",
       "    <tr style=\"text-align: right;\">\n",
       "      <th></th>\n",
       "      <th>id</th>\n",
       "      <th>rn</th>\n",
       "      <th>pre_since_opened</th>\n",
       "      <th>pre_since_confirmed</th>\n",
       "      <th>pre_pterm</th>\n",
       "      <th>pre_fterm</th>\n",
       "      <th>pre_till_pclose</th>\n",
       "      <th>pre_till_fclose</th>\n",
       "      <th>pre_loans_credit_limit</th>\n",
       "      <th>pre_loans_next_pay_summ</th>\n",
       "      <th>...</th>\n",
       "      <th>enc_paym_22</th>\n",
       "      <th>enc_paym_23</th>\n",
       "      <th>enc_paym_24</th>\n",
       "      <th>enc_loans_account_holder_type</th>\n",
       "      <th>enc_loans_credit_status</th>\n",
       "      <th>enc_loans_credit_type</th>\n",
       "      <th>enc_loans_account_cur</th>\n",
       "      <th>pclose_flag</th>\n",
       "      <th>fclose_flag</th>\n",
       "      <th>target</th>\n",
       "    </tr>\n",
       "  </thead>\n",
       "  <tbody>\n",
       "    <tr>\n",
       "      <th>0</th>\n",
       "      <td>0</td>\n",
       "      <td>1.0</td>\n",
       "      <td>18.0</td>\n",
       "      <td>9.0</td>\n",
       "      <td>2.0</td>\n",
       "      <td>3.0</td>\n",
       "      <td>16.0</td>\n",
       "      <td>10.0</td>\n",
       "      <td>11.0</td>\n",
       "      <td>3.0</td>\n",
       "      <td>...</td>\n",
       "      <td>3.0</td>\n",
       "      <td>3.0</td>\n",
       "      <td>4.0</td>\n",
       "      <td>1.0</td>\n",
       "      <td>3.0</td>\n",
       "      <td>4.0</td>\n",
       "      <td>1.0</td>\n",
       "      <td>0.0</td>\n",
       "      <td>0.0</td>\n",
       "      <td>0</td>\n",
       "    </tr>\n",
       "    <tr>\n",
       "      <th>1</th>\n",
       "      <td>0</td>\n",
       "      <td>2.0</td>\n",
       "      <td>18.0</td>\n",
       "      <td>9.0</td>\n",
       "      <td>14.0</td>\n",
       "      <td>14.0</td>\n",
       "      <td>12.0</td>\n",
       "      <td>12.0</td>\n",
       "      <td>0.0</td>\n",
       "      <td>3.0</td>\n",
       "      <td>...</td>\n",
       "      <td>0.0</td>\n",
       "      <td>0.0</td>\n",
       "      <td>4.0</td>\n",
       "      <td>1.0</td>\n",
       "      <td>3.0</td>\n",
       "      <td>4.0</td>\n",
       "      <td>1.0</td>\n",
       "      <td>0.0</td>\n",
       "      <td>0.0</td>\n",
       "      <td>0</td>\n",
       "    </tr>\n",
       "    <tr>\n",
       "      <th>2</th>\n",
       "      <td>0</td>\n",
       "      <td>3.0</td>\n",
       "      <td>18.0</td>\n",
       "      <td>9.0</td>\n",
       "      <td>4.0</td>\n",
       "      <td>8.0</td>\n",
       "      <td>1.0</td>\n",
       "      <td>11.0</td>\n",
       "      <td>11.0</td>\n",
       "      <td>0.0</td>\n",
       "      <td>...</td>\n",
       "      <td>0.0</td>\n",
       "      <td>0.0</td>\n",
       "      <td>4.0</td>\n",
       "      <td>1.0</td>\n",
       "      <td>2.0</td>\n",
       "      <td>3.0</td>\n",
       "      <td>1.0</td>\n",
       "      <td>1.0</td>\n",
       "      <td>1.0</td>\n",
       "      <td>0</td>\n",
       "    </tr>\n",
       "    <tr>\n",
       "      <th>3</th>\n",
       "      <td>0</td>\n",
       "      <td>4.0</td>\n",
       "      <td>4.0</td>\n",
       "      <td>1.0</td>\n",
       "      <td>9.0</td>\n",
       "      <td>12.0</td>\n",
       "      <td>16.0</td>\n",
       "      <td>7.0</td>\n",
       "      <td>12.0</td>\n",
       "      <td>2.0</td>\n",
       "      <td>...</td>\n",
       "      <td>3.0</td>\n",
       "      <td>3.0</td>\n",
       "      <td>4.0</td>\n",
       "      <td>1.0</td>\n",
       "      <td>3.0</td>\n",
       "      <td>1.0</td>\n",
       "      <td>1.0</td>\n",
       "      <td>0.0</td>\n",
       "      <td>0.0</td>\n",
       "      <td>0</td>\n",
       "    </tr>\n",
       "    <tr>\n",
       "      <th>4</th>\n",
       "      <td>0</td>\n",
       "      <td>5.0</td>\n",
       "      <td>5.0</td>\n",
       "      <td>12.0</td>\n",
       "      <td>15.0</td>\n",
       "      <td>2.0</td>\n",
       "      <td>11.0</td>\n",
       "      <td>12.0</td>\n",
       "      <td>10.0</td>\n",
       "      <td>2.0</td>\n",
       "      <td>...</td>\n",
       "      <td>3.0</td>\n",
       "      <td>3.0</td>\n",
       "      <td>4.0</td>\n",
       "      <td>1.0</td>\n",
       "      <td>3.0</td>\n",
       "      <td>4.0</td>\n",
       "      <td>1.0</td>\n",
       "      <td>0.0</td>\n",
       "      <td>0.0</td>\n",
       "      <td>0</td>\n",
       "    </tr>\n",
       "  </tbody>\n",
       "</table>\n",
       "<p>5 rows × 62 columns</p>\n",
       "</div>"
      ],
      "text/plain": [
       "   id   rn  pre_since_opened  pre_since_confirmed  pre_pterm  pre_fterm  \\\n",
       "0   0  1.0              18.0                  9.0        2.0        3.0   \n",
       "1   0  2.0              18.0                  9.0       14.0       14.0   \n",
       "2   0  3.0              18.0                  9.0        4.0        8.0   \n",
       "3   0  4.0               4.0                  1.0        9.0       12.0   \n",
       "4   0  5.0               5.0                 12.0       15.0        2.0   \n",
       "\n",
       "   pre_till_pclose  pre_till_fclose  pre_loans_credit_limit  \\\n",
       "0             16.0             10.0                    11.0   \n",
       "1             12.0             12.0                     0.0   \n",
       "2              1.0             11.0                    11.0   \n",
       "3             16.0              7.0                    12.0   \n",
       "4             11.0             12.0                    10.0   \n",
       "\n",
       "   pre_loans_next_pay_summ  ...  enc_paym_22  enc_paym_23  enc_paym_24  \\\n",
       "0                      3.0  ...          3.0          3.0          4.0   \n",
       "1                      3.0  ...          0.0          0.0          4.0   \n",
       "2                      0.0  ...          0.0          0.0          4.0   \n",
       "3                      2.0  ...          3.0          3.0          4.0   \n",
       "4                      2.0  ...          3.0          3.0          4.0   \n",
       "\n",
       "   enc_loans_account_holder_type  enc_loans_credit_status  \\\n",
       "0                            1.0                      3.0   \n",
       "1                            1.0                      3.0   \n",
       "2                            1.0                      2.0   \n",
       "3                            1.0                      3.0   \n",
       "4                            1.0                      3.0   \n",
       "\n",
       "   enc_loans_credit_type  enc_loans_account_cur  pclose_flag  fclose_flag  \\\n",
       "0                    4.0                    1.0          0.0          0.0   \n",
       "1                    4.0                    1.0          0.0          0.0   \n",
       "2                    3.0                    1.0          1.0          1.0   \n",
       "3                    1.0                    1.0          0.0          0.0   \n",
       "4                    4.0                    1.0          0.0          0.0   \n",
       "\n",
       "   target  \n",
       "0       0  \n",
       "1       0  \n",
       "2       0  \n",
       "3       0  \n",
       "4       0  \n",
       "\n",
       "[5 rows x 62 columns]"
      ]
     },
     "execution_count": 2,
     "metadata": {},
     "output_type": "execute_result"
    }
   ],
   "source": [
    "def data_import(url_data, url_target_data):\n",
    "    df_features = pd.read_parquet(url_data)\n",
    "    df_target = pd.read_csv(url_target_data)\n",
    "    df = df_features.merge(df_target[[\"id\", \"flag\"]], how=\"outer\", on=\"id\")\n",
    "    df = df.loc[df[\"rn\"].notnull()]\n",
    "    df.rename(columns={\"flag\": \"target\"}, inplace=True)\n",
    "    return df   \n",
    "\n",
    "df = data_import(\"train_data/train_data_0.pq\", \"train_target.csv\")\n",
    "df.head()"
   ]
  },
  {
   "cell_type": "code",
   "execution_count": 3,
   "id": "b9def9a4-30da-460b-a551-57a0bd4e0364",
   "metadata": {},
   "outputs": [
    {
     "data": {
      "text/plain": [
       "Index(['id', 'rn', 'pre_since_opened', 'pre_since_confirmed', 'pre_pterm',\n",
       "       'pre_fterm', 'pre_till_pclose', 'pre_till_fclose',\n",
       "       'pre_loans_credit_limit', 'pre_loans_next_pay_summ',\n",
       "       'pre_loans_outstanding', 'pre_loans_total_overdue',\n",
       "       'pre_loans_max_overdue_sum', 'pre_loans_credit_cost_rate', 'pre_loans5',\n",
       "       'pre_loans530', 'pre_loans3060', 'pre_loans6090', 'pre_loans90',\n",
       "       'is_zero_loans5', 'is_zero_loans530', 'is_zero_loans3060',\n",
       "       'is_zero_loans6090', 'is_zero_loans90', 'pre_util', 'pre_over2limit',\n",
       "       'pre_maxover2limit', 'is_zero_util', 'is_zero_over2limit',\n",
       "       'is_zero_maxover2limit', 'enc_paym_0', 'enc_paym_1', 'enc_paym_2',\n",
       "       'enc_paym_3', 'enc_paym_4', 'enc_paym_5', 'enc_paym_6', 'enc_paym_7',\n",
       "       'enc_paym_8', 'enc_paym_9', 'enc_paym_10', 'enc_paym_11', 'enc_paym_12',\n",
       "       'enc_paym_13', 'enc_paym_14', 'enc_paym_15', 'enc_paym_16',\n",
       "       'enc_paym_17', 'enc_paym_18', 'enc_paym_19', 'enc_paym_20',\n",
       "       'enc_paym_21', 'enc_paym_22', 'enc_paym_23', 'enc_paym_24',\n",
       "       'enc_loans_account_holder_type', 'enc_loans_credit_status',\n",
       "       'enc_loans_credit_type', 'enc_loans_account_cur', 'pclose_flag',\n",
       "       'fclose_flag', 'target'],\n",
       "      dtype='object')"
      ]
     },
     "execution_count": 3,
     "metadata": {},
     "output_type": "execute_result"
    }
   ],
   "source": [
    "df.columns"
   ]
  },
  {
   "cell_type": "code",
   "execution_count": 4,
   "id": "6ba2264e-0ab2-4846-8526-3e77d65ddcf6",
   "metadata": {},
   "outputs": [
    {
     "data": {
      "text/plain": [
       "(1974724, 62)"
      ]
     },
     "execution_count": 4,
     "metadata": {},
     "output_type": "execute_result"
    }
   ],
   "source": [
    "df.shape"
   ]
  },
  {
   "cell_type": "code",
   "execution_count": 34,
   "id": "42c7444e-9149-4105-98b2-c7f019d0dd49",
   "metadata": {},
   "outputs": [
    {
     "data": {
      "text/plain": [
       "count    1.974724e+06\n",
       "mean     1.002386e+00\n",
       "std      5.909327e-02\n",
       "min      0.000000e+00\n",
       "25%      1.000000e+00\n",
       "50%      1.000000e+00\n",
       "75%      1.000000e+00\n",
       "max      3.000000e+00\n",
       "Name: enc_loans_account_cur, dtype: float64"
      ]
     },
     "execution_count": 34,
     "metadata": {},
     "output_type": "execute_result"
    }
   ],
   "source": [
    "df[\"enc_loans_account_cur\"].describe()"
   ]
  },
  {
   "cell_type": "code",
   "execution_count": 35,
   "id": "f2f626e9-fd75-470f-b47d-cef66d33a302",
   "metadata": {},
   "outputs": [
    {
     "data": {
      "text/plain": [
       "array([1., 2., 0., 3.])"
      ]
     },
     "execution_count": 35,
     "metadata": {},
     "output_type": "execute_result"
    }
   ],
   "source": [
    "df.enc_loans_account_cur.unique()"
   ]
  },
  {
   "cell_type": "code",
   "execution_count": 6,
   "id": "935f3a3a-42ba-4a59-b6dc-b05648b5379b",
   "metadata": {},
   "outputs": [
    {
     "data": {
      "text/plain": [
       "id                       0\n",
       "rn                       0\n",
       "pre_since_opened         0\n",
       "pre_since_confirmed      0\n",
       "pre_pterm                0\n",
       "                        ..\n",
       "enc_loans_credit_type    0\n",
       "enc_loans_account_cur    0\n",
       "pclose_flag              0\n",
       "fclose_flag              0\n",
       "target                   0\n",
       "Length: 62, dtype: int64"
      ]
     },
     "execution_count": 6,
     "metadata": {},
     "output_type": "execute_result"
    }
   ],
   "source": [
    "df.isna().sum()"
   ]
  },
  {
   "cell_type": "markdown",
   "id": "b1136671-5994-4f17-884f-6ba3a49aac9c",
   "metadata": {},
   "source": [
    "# Обработка данных"
   ]
  },
  {
   "cell_type": "code",
   "execution_count": 7,
   "id": "951f7de6-2aec-49c5-8106-5907b63bad3e",
   "metadata": {},
   "outputs": [],
   "source": [
    "Y = df[\"target\"]\n",
    "X = df.drop(\"target\", axis=1)\n",
    "\n",
    "X_train, X_test, Y_train, Y_test = train_test_split(X, Y, test_size=TEST_SIZE, random_state=RANDOM_SEED, shuffle=True)"
   ]
  },
  {
   "cell_type": "code",
   "execution_count": 8,
   "id": "40f9a3e2-9997-460e-966e-12a1969e0cce",
   "metadata": {},
   "outputs": [
    {
     "data": {
      "text/plain": [
       "1093121    False\n",
       "982753     False\n",
       "120054     False\n",
       "216887     False\n",
       "661797     False\n",
       "           ...  \n",
       "864087      True\n",
       "1826663    False\n",
       "210755     False\n",
       "1104664    False\n",
       "1873416    False\n",
       "Name: target, Length: 1382306, dtype: bool"
      ]
     },
     "execution_count": 8,
     "metadata": {},
     "output_type": "execute_result"
    }
   ],
   "source": []
  },
  {
   "cell_type": "code",
   "execution_count": null,
   "id": "e84e3ad6-5110-47e4-94a1-3379c57ec2f4",
   "metadata": {},
   "outputs": [],
   "source": []
  },
  {
   "cell_type": "markdown",
   "id": "cc718a69-e920-4d23-b8ff-03c68803f9bb",
   "metadata": {},
   "source": [
    "# Cтроим модель"
   ]
  },
  {
   "cell_type": "code",
   "execution_count": 11,
   "id": "05b7092e-e68b-43a7-9cb0-8881d11ce997",
   "metadata": {},
   "outputs": [
    {
     "name": "stdout",
     "output_type": "stream",
     "text": [
      "ACU train: 0.971\n",
      "Precision train: 0.000\n",
      "Recall train: 0.000\n"
     ]
    },
    {
     "name": "stderr",
     "output_type": "stream",
     "text": [
      "/home/roman/anaconda3/lib/python3.9/site-packages/sklearn/metrics/_classification.py:1318: UndefinedMetricWarning: Recall is ill-defined and being set to 0.0 due to no true samples. Use `zero_division` parameter to control this behavior.\n",
      "  _warn_prf(average, modifier, msg_start, len(result))\n"
     ]
    }
   ],
   "source": [
    "Log_model = LogisticRegression(random_state=RANDOM_SEED).fit(X_train, Y_train)\n",
    "\n",
    "y_pred_train = Log_model.predict(X_train)\n",
    "\n",
    "\n",
    "acu_train = accuracy_score(y_pred_train, Y_train)\n",
    "precision_train = precision_score(y_pred_train, Y_train)\n",
    "recall_train = recall_score(y_pred_train, Y_train)\n",
    "\n",
    "\n",
    "\n",
    "print(\"Accuracy train: %.3f\" % acu_train)\n",
    "print(\"Precision train: %.3f\" % precision_train)\n",
    "print(\"Recall train: %.3f\" % recall_train)"
   ]
  },
  {
   "cell_type": "code",
   "execution_count": 16,
   "id": "108cf4fd-204e-40c8-89e2-6cfbff888503",
   "metadata": {},
   "outputs": [
    {
     "name": "stdout",
     "output_type": "stream",
     "text": [
      "Accuracy train: 0.985\n",
      "Accuracy test: 0.971\n",
      "Precision train: 0.483\n",
      "Precision test: 0.006\n",
      "Recall train: 1.000\n",
      "Recall test: 0.667\n",
      "ROCAUC train: 0.992\n",
      "ROCAUC test: 0.819\n"
     ]
    }
   ],
   "source": [
    "Rforest_model = RandomForestClassifier(max_depth=30, random_state=RANDOM_SEED).fit(X_train, Y_train)\n",
    "\n",
    "y_pred_train = Rforest_model.predict(X_train)\n",
    "y_pred_test = Rforest_model.predict(X_test)\n",
    "\n",
    "\n",
    "acu_train = accuracy_score(y_pred_train, Y_train)\n",
    "precision_train = precision_score(y_pred_train, Y_train)\n",
    "recall_train = recall_score(y_pred_train, Y_train)\n",
    "rocauc_train = roc_auc_score(y_pred_train, Y_train)\n",
    "\n",
    "acu_test = accuracy_score(y_pred_test, Y_test)\n",
    "precision_test = precision_score(y_pred_test, Y_test)\n",
    "recall_test = recall_score(y_pred_test, Y_test)\n",
    "rocauc_test = roc_auc_score(y_pred_test, Y_test)\n",
    "\n",
    "\n",
    "print(\"Accuracy train: %.3f\" % acu_train)\n",
    "print(\"Accuracy test: %.3f\" % acu_test)\n",
    "\n",
    "print(\"Precision train: %.3f\" % precision_train)\n",
    "print(\"Precision test: %.3f\" % precision_test)\n",
    "\n",
    "print(\"Recall train: %.3f\" % recall_train)\n",
    "print(\"Recall test: %.3f\" % recall_test)\n",
    "\n",
    "print(\"ROCAUC train: %.3f\" % rocauc_train)\n",
    "print(\"ROCAUC test: %.3f\" % rocauc_test)"
   ]
  },
  {
   "cell_type": "code",
   "execution_count": 12,
   "id": "6ef21811-617c-45bc-9e26-ae03243ac825",
   "metadata": {},
   "outputs": [
    {
     "data": {
      "image/png": "[encoded data removed]",
      "text/plain": [
       "<Figure size 432x288 with 1 Axes>"
      ]
     },
     "metadata": {
      "needs_background": "light"
     },
     "output_type": "display_data"
    }
   ],
   "source": [
    "fprs, tprs, thr = roc_curve(Y_test, y_pred_test)\n",
    "\n",
    "plt.plot(fprs, tprs, marker='o')\n",
    "plt.ylim([0, 1.1]);plt.xlim([0, 1.1])\n",
    "plt.xlabel('FPR');plt.ylabel('TPR')\n",
    "plt.title('ROC_curve');"
   ]
  },
  {
   "cell_type": "code",
   "execution_count": 21,
   "id": "5310e37b-f3e5-45c5-84dd-609d188356da",
   "metadata": {},
   "outputs": [
    {
     "name": "stdout",
     "output_type": "stream",
     "text": [
      "No Skill: ROC AUC=0.500\n",
      "Logistic: ROC AUC=0.648\n"
     ]
    },
    {
     "data": {
      "image/png": "[encoded data removed]",
      "text/plain": [
       "<Figure size 432x288 with 1 Axes>"
      ]
     },
     "metadata": {
      "needs_background": "light"
     },
     "output_type": "display_data"
    }
   ],
   "source": [
    "\n",
    "ns_probs = [0 for _ in range(len(Y_test))]\n",
    "lr_probs = Rforest_model.predict_proba(X_test)\n",
    "# keep probabilities for the positive outcome only\n",
    "lr_probs = lr_probs[:, 1]\n",
    "# calculate scores\n",
    "ns_auc = roc_auc_score(Y_test, ns_probs)\n",
    "lr_auc = roc_auc_score(Y_test, lr_probs)\n",
    "# summarize scores\n",
    "print('No Skill: ROC AUC=%.3f' % (ns_auc))\n",
    "print('Logistic: ROC AUC=%.3f' % (lr_auc))\n",
    "# calculate roc curves\n",
    "ns_fpr, ns_tpr, _ = roc_curve(Y_test, ns_probs)\n",
    "lr_fpr, lr_tpr, _ = roc_curve(Y_test, lr_probs)\n",
    "# plot the roc curve for the model\n",
    "plt.plot(ns_fpr, ns_tpr, linestyle='--', label='No Skill')\n",
    "plt.plot(lr_fpr, lr_tpr, marker='.', label='Random Forest')\n",
    "# axis labels\n",
    "plt.xlabel('False Positive Rate')\n",
    "plt.ylabel('True Positive Rate')\n",
    "# show the legend\n",
    "plt.legend()\n",
    "# show the plot\n",
    "plt.show()"
   ]
  },
  {
   "cell_type": "code",
   "execution_count": 18,
   "id": "e945d4c0-7967-40a7-a3fc-729ec492c5c8",
   "metadata": {},
   "outputs": [
    {
     "data": {
      "text/plain": [
       "array([0, 0, 0, ..., 0, 0, 0])"
      ]
     },
     "execution_count": 18,
     "metadata": {},
     "output_type": "execute_result"
    }
   ],
   "source": []
  },
  {
   "cell_type": "code",
   "execution_count": null,
   "id": "e63b8f07-e79a-44dd-bbd0-834c27123a33",
   "metadata": {},
   "outputs": [],
   "source": []
  }
 ],
 "metadata": {
  "kernelspec": {
   "display_name": "Python 3 (ipykernel)",
   "language": "python",
   "name": "python3"
  },
  "language_info": {
   "codemirror_mode": {
    "name": "ipython",
    "version": 3
   },
   "file_extension": ".py",
   "mimetype": "text/x-python",
   "name": "python",
   "nbconvert_exporter": "python",
   "pygments_lexer": "ipython3",
   "version": "3.9.12"
  }
 },
 "nbformat": 4,
 "nbformat_minor": 5
}
